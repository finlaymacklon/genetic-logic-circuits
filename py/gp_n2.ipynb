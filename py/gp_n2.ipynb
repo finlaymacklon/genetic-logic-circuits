{
 "cells": [
  {
   "cell_type": "code",
   "execution_count": 1,
   "metadata": {
    "execution": {
     "iopub.execute_input": "2020-12-13T21:21:33.612970Z",
     "iopub.status.busy": "2020-12-13T21:21:33.612719Z",
     "iopub.status.idle": "2020-12-13T21:21:33.826734Z",
     "shell.execute_reply": "2020-12-13T21:21:33.826109Z",
     "shell.execute_reply.started": "2020-12-13T21:21:33.612947Z"
    }
   },
   "outputs": [],
   "source": [
    "import pandas as pd\n",
    "import numpy as np\n",
    "from gp_boolean.gp_search import genetic_programming_search\n",
    "from gp_boolean.gp_node import X"
   ]
  },
  {
   "cell_type": "code",
   "execution_count": 2,
   "metadata": {
    "execution": {
     "iopub.execute_input": "2020-12-13T21:21:34.089469Z",
     "iopub.status.busy": "2020-12-13T21:21:34.089177Z",
     "iopub.status.idle": "2020-12-13T21:21:34.095544Z",
     "shell.execute_reply": "2020-12-13T21:21:34.094692Z",
     "shell.execute_reply.started": "2020-12-13T21:21:34.089442Z"
    }
   },
   "outputs": [],
   "source": [
    "\"\"\"\n",
    "Set up the problem to be solved\n",
    "\"\"\"\n",
    "\n",
    "# set headers for truth table (inputs and output)\n",
    "table_headers = [\n",
    "    ['in', 'in',    'out'],\n",
    "    [ 'A',  'B',       '']\n",
    "]\n",
    "# set truth table data\n",
    "table_data_xor = [\n",
    "    [   0,    0,        0],\n",
    "    [   0,    1,        1],\n",
    "    [   1,    0,        1],\n",
    "    [   1,    1,        0],\n",
    "]\n",
    "#\n",
    "table_data_nand = [\n",
    "    [   0,    0,        1],\n",
    "    [   0,    1,        1],\n",
    "    [   1,    0,        1],\n",
    "    [   1,    1,        0],\n",
    "]\n",
    "#\n",
    "table_data_nor = [\n",
    "    [   0,    0,        1],\n",
    "    [   0,    1,        0],\n",
    "    [   1,    0,        0],\n",
    "    [   1,    1,        0],\n",
    "]\n",
    "#\n",
    "table_data_xnor = [\n",
    "    [   0,    0,        1],\n",
    "    [   0,    1,        0],\n",
    "    [   1,    0,        0],\n",
    "    [   1,    1,        1],\n",
    "]"
   ]
  },
  {
   "cell_type": "code",
   "execution_count": 12,
   "metadata": {
    "execution": {
     "iopub.execute_input": "2020-12-13T23:29:06.634430Z",
     "iopub.status.busy": "2020-12-13T23:29:06.634187Z",
     "iopub.status.idle": "2020-12-13T23:29:06.643530Z",
     "shell.execute_reply": "2020-12-13T23:29:06.642867Z",
     "shell.execute_reply.started": "2020-12-13T23:29:06.634408Z"
    }
   },
   "outputs": [
    {
     "data": {
      "text/html": [
       "<div>\n",
       "<style scoped>\n",
       "    .dataframe tbody tr th:only-of-type {\n",
       "        vertical-align: middle;\n",
       "    }\n",
       "\n",
       "    .dataframe tbody tr th {\n",
       "        vertical-align: top;\n",
       "    }\n",
       "\n",
       "    .dataframe thead tr th {\n",
       "        text-align: left;\n",
       "    }\n",
       "</style>\n",
       "<table border=\"1\" class=\"dataframe\">\n",
       "  <thead>\n",
       "    <tr>\n",
       "      <th></th>\n",
       "      <th colspan=\"2\" halign=\"left\">in</th>\n",
       "      <th>out</th>\n",
       "    </tr>\n",
       "    <tr>\n",
       "      <th></th>\n",
       "      <th>A</th>\n",
       "      <th>B</th>\n",
       "      <th></th>\n",
       "    </tr>\n",
       "  </thead>\n",
       "  <tbody>\n",
       "    <tr>\n",
       "      <th>0</th>\n",
       "      <td>0</td>\n",
       "      <td>0</td>\n",
       "      <td>1</td>\n",
       "    </tr>\n",
       "    <tr>\n",
       "      <th>1</th>\n",
       "      <td>0</td>\n",
       "      <td>1</td>\n",
       "      <td>0</td>\n",
       "    </tr>\n",
       "    <tr>\n",
       "      <th>2</th>\n",
       "      <td>1</td>\n",
       "      <td>0</td>\n",
       "      <td>0</td>\n",
       "    </tr>\n",
       "    <tr>\n",
       "      <th>3</th>\n",
       "      <td>1</td>\n",
       "      <td>1</td>\n",
       "      <td>1</td>\n",
       "    </tr>\n",
       "  </tbody>\n",
       "</table>\n",
       "</div>"
      ],
      "text/plain": [
       "  in    out\n",
       "   A  B    \n",
       "0  0  0   1\n",
       "1  0  1   0\n",
       "2  1  0   0\n",
       "3  1  1   1"
      ]
     },
     "execution_count": 12,
     "metadata": {},
     "output_type": "execute_result"
    }
   ],
   "source": [
    "# create dataframe for truth table\n",
    "truth_table = pd.DataFrame(\n",
    "    columns = table_headers,\n",
    "    data = table_data_xnor\n",
    ")\n",
    "# show truth table\n",
    "truth_table.head(10)"
   ]
  },
  {
   "cell_type": "code",
   "execution_count": 15,
   "metadata": {
    "execution": {
     "iopub.execute_input": "2020-12-13T23:32:33.846231Z",
     "iopub.status.busy": "2020-12-13T23:32:33.845955Z",
     "iopub.status.idle": "2020-12-13T23:32:50.757402Z",
     "shell.execute_reply": "2020-12-13T23:32:50.756789Z",
     "shell.execute_reply.started": "2020-12-13T23:32:33.846206Z"
    }
   },
   "outputs": [
    {
     "name": "stdout",
     "output_type": "stream",
     "text": [
      "((B ∪ A)\" ∪ (A ∩ B))\n",
      "100% correct\n",
      "Walltime = 2.008 seconds\n",
      "Size = 4 gates\n",
      "------------------------------\n",
      "(B ∩ A)\n",
      "75% correct\n",
      "Walltime = 1.295 seconds\n",
      "Size = 1 gates\n",
      "------------------------------\n",
      "((A ∪ B\") ∩ (A\" ∪ B))\n",
      "100% correct\n",
      "Walltime = 1.944 seconds\n",
      "Size = 5 gates\n",
      "------------------------------\n",
      "((B\" ∪ A) ∩ (A\" ∪ B))\n",
      "100% correct\n",
      "Walltime = 1.950 seconds\n",
      "Size = 5 gates\n",
      "------------------------------\n",
      "(A ∩ B)\n",
      "75% correct\n",
      "Walltime = 1.349 seconds\n",
      "Size = 1 gates\n",
      "------------------------------\n",
      "((B\" ∩ A) ∪ (A\" ∩ B))\"\n",
      "100% correct\n",
      "Walltime = 1.949 seconds\n",
      "Size = 6 gates\n",
      "------------------------------\n",
      "(A ∩ B)\n",
      "75% correct\n",
      "Walltime = 1.282 seconds\n",
      "Size = 1 gates\n",
      "------------------------------\n",
      "((B ∪ A)\" ∪ (B ∩ A))\n",
      "100% correct\n",
      "Walltime = 1.905 seconds\n",
      "Size = 4 gates\n",
      "------------------------------\n",
      "((B ∪ A\") ∩ (B\" ∪ A))\n",
      "100% correct\n",
      "Walltime = 1.938 seconds\n",
      "Size = 5 gates\n",
      "------------------------------\n",
      "(A ∩ B)\n",
      "75% correct\n",
      "Walltime = 1.283 seconds\n",
      "Size = 1 gates\n",
      "------------------------------\n"
     ]
    }
   ],
   "source": [
    "\"\"\"\n",
    "Perform the search\n",
    "\"\"\"\n",
    "\n",
    "kwargs = {\n",
    "    'max_depth': 4, \n",
    "    'size_pop': 100, \n",
    "    'size_mate': 20,\n",
    "    'num_gens': 100, \n",
    "    'p_mutate': 0.8, \n",
    "    'p_recombine': 0.5,\n",
    "    'w_correct': 2,\n",
    "    'w_size': 0.1\n",
    "}\n",
    "\n",
    "all_gp = []\n",
    "all_times = []\n",
    "all_pcts = []\n",
    "all_sizes = []\n",
    "\n",
    "for i in range(10):\n",
    "    gp, walltime, pct, size = genetic_programming_search(truth_table, **kwargs)\n",
    "    all_gp.append(gp)\n",
    "    all_times.append(walltime)\n",
    "    all_pcts.append(pct)\n",
    "    all_sizes.append(size)\n",
    "    gp.print_tree()\n",
    "    print('{:.0f}% correct'.format(100*pct))\n",
    "    print('Walltime = {:.3f} seconds'.format(walltime))\n",
    "    print('Size = {} gates'.format(size))\n",
    "    print('------------------------------')"
   ]
  },
  {
   "cell_type": "markdown",
   "metadata": {},
   "source": [
    "$((B \\cap A') \\cup (A \\cap C'))$"
   ]
  }
 ],
 "metadata": {
  "kernelspec": {
   "display_name": "Python 3",
   "language": "python",
   "name": "python3"
  },
  "language_info": {
   "codemirror_mode": {
    "name": "ipython",
    "version": 3
   },
   "file_extension": ".py",
   "mimetype": "text/x-python",
   "name": "python",
   "nbconvert_exporter": "python",
   "pygments_lexer": "ipython3",
   "version": "3.8.5"
  }
 },
 "nbformat": 4,
 "nbformat_minor": 4
}
